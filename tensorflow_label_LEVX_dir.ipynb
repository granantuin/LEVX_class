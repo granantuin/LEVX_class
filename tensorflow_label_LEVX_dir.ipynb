{
  "nbformat": 4,
  "nbformat_minor": 0,
  "metadata": {
    "colab": {
      "name": "tensorflow_label_LEVX_dir",
      "version": "0.3.2",
      "provenance": [],
      "collapsed_sections": [],
      "include_colab_link": true
    },
    "kernelspec": {
      "name": "python3",
      "display_name": "Python 3"
    },
    "accelerator": "TPU"
  },
  "cells": [
    {
      "cell_type": "markdown",
      "metadata": {
        "id": "view-in-github",
        "colab_type": "text"
      },
      "source": [
        "<a href=\"https://colab.research.google.com/github/granantuin/LEVX_class/blob/master/tensorflow_label_LEVX_dir.ipynb\" target=\"_parent\"><img src=\"https://colab.research.google.com/assets/colab-badge.svg\" alt=\"Open In Colab\"/></a>"
      ]
    },
    {
      "cell_type": "code",
      "metadata": {
        "id": "2uGuxfBa1GSB",
        "colab_type": "code",
        "colab": {}
      },
      "source": [
        "from sklearn.metrics import precision_recall_fscore_support\n",
        "import pandas as pd\n",
        "from sklearn.metrics import confusion_matrix ,accuracy_score,f1_score,recall_score\n",
        "import numpy as np\n",
        "import matplotlib.pyplot as plt\n",
        "from sklearn.model_selection import train_test_split,cross_validate\n",
        "import seaborn as sns\n",
        "from __future__ import absolute_import, division, print_function\n",
        "import tensorflow as tf\n",
        "tf.logging.set_verbosity(tf.logging.ERROR)\n",
        "\n"
      ],
      "execution_count": 0,
      "outputs": []
    },
    {
      "cell_type": "code",
      "metadata": {
        "id": "N_cnHTUh1aTf",
        "colab_type": "code",
        "colab": {}
      },
      "source": [
        "from google.colab import drive\n",
        "drive.mount('/content/drive')\n"
      ],
      "execution_count": 0,
      "outputs": []
    },
    {
      "cell_type": "code",
      "metadata": {
        "id": "Lt2mSVBX1fgc",
        "colab_type": "code",
        "colab": {}
      },
      "source": [
        "drive_4km=\"/content/drive/My Drive/Colab Notebooks/model_vs_data/Coron_4km_h24toh48_dir/\"\n",
        "drive_1km=\"/content/drive/My Drive/Colab Notebooks/model_vs_data/Coron_Mars_H24to48_dir/\"\n",
        "drive_metar=\"/content/drive/My Drive/Colab Notebooks/model_vs_data/Metar_2018/\"\n",
        "dr=[drive_4km,drive_1km,drive_metar]\n",
        "y_data=pd.read_excel(dr[2]+\"y_LEVX_dir.xlsx\",index_col=0)\n",
        "x_data=pd.read_csv(dr[2]+\"x_LEVX.csv\",index_col=0)\n",
        "x_data=x_data.iloc[:,0:9]\n",
        "y_data=y_data[y_data>0]# delete station errors\n",
        "result = x_data.join(y_data, how='outer').dropna()\n",
        "x_data=result.iloc[:,0:9]\n",
        "y_data=result.iloc[:,9:10]"
      ],
      "execution_count": 0,
      "outputs": []
    },
    {
      "cell_type": "code",
      "metadata": {
        "id": "T5aBR60h745J",
        "colab_type": "code",
        "colab": {}
      },
      "source": [
        "def evaluate():\n",
        "  index=[\"E\",\"N\",\"NE\",\"NW\",\"S\",\"SE\",\"SW\",\"W\"]\n",
        "  print(pd.DataFrame(confusion_matrix(y_test, y_pred), index=index, columns=index))\n",
        "  print(\"****************\")\n",
        "  print(\"Accuracy=\",\"{:.2%}\".format(accuracy_score(y_test, y_pred)),\"// Model Accuracy=45%\")\n",
        "  results= precision_recall_fscore_support(y_test, y_pred, average=None, )\n",
        "  df=pd.DataFrame({\"Precision\":results[0],\"Recall\":results[1],\"F1\":results[2],\"W_DIR\":index})\n",
        "  df=df.set_index(\"W_DIR\")\n",
        "  print(\"Average precision =\",\"{:.2%}\".format(df[\"Precision\"].mean()),\"// Model precision=28%\")\n",
        "  print(\"Average recall =\",\"{:.2%}\".format(df[\"Recall\"].mean()),\"// Model recall=28%\")\n",
        "  results= precision_recall_fscore_support(y_test, y_pred, average='weighted', )\n",
        "  print(\"Precision weighted=\",\"{:.2%}\".format(results[0]),\"//Model weighted=56%\")\n",
        "  print(\"Recall weighted =\",\"{:.2%}\".format(results[1]),\"//Model weighted=53%\")\n",
        "  print(\"****************\")\n",
        "  print(df)"
      ],
      "execution_count": 0,
      "outputs": []
    },
    {
      "cell_type": "markdown",
      "metadata": {
        "id": "QSJ4uJKCKdYE",
        "colab_type": "text"
      },
      "source": [
        "**E=[1,0,0,0,0,0,0,0]\n",
        "N=[0,1,0,0,0,0,0,0]\n",
        "NE=[0,0,1,0,0,0,0,0]\n",
        "NW=[0,0,0,1,0,0,0,0]\n",
        "S=[0,0,0,0,1,0,0,0,0]\n",
        "SE=[0,0,0,0,0,1,0,0]\n",
        "SW=[0,0,0,0,0,0,1,0]\n",
        "W=[0,0,0,0,0,0,0,1]**"
      ]
    },
    {
      "cell_type": "code",
      "metadata": {
        "id": "hAs4madU1trV",
        "colab_type": "code",
        "colab": {}
      },
      "source": [
        "y_data_tf=[]\n",
        "for dir in y_data[\"value\"]:\n",
        "  if dir>22.5 and dir<67.5:\n",
        "    y_data_tf.append([0,0,1,0,0,0,0,0])\n",
        "  if dir>67.5 and dir<112.5:\n",
        "    y_data_tf.append([1,0,0,0,0,0,0,0])\n",
        "  if dir>112.5 and dir<157.5:\n",
        "    y_data_tf.append([0,0,0,0,0,1,0,0])\n",
        "  if dir>157.5 and dir<202.5:\n",
        "    y_data_tf.append([0,0,0,0,1,0,0,0])\n",
        "  if dir>202.5 and dir<247.5:\n",
        "    y_data_tf.append([0,0,0,0,0,0,1,0]) \n",
        "  if dir>247.5 and dir<292.5:\n",
        "    y_data_tf.append([0,0,0,0,0,0,0,1])\n",
        "  if dir>292.5 and dir<337.5:\n",
        "    y_data_tf.append([0,0,0,1,0,0,0,0])\n",
        "  if dir>337.5 or dir<22.5:\n",
        "    y_data_tf.append([0,1,0,0,0,0,0,0])  \n",
        "y_data=np.asarray(y_data_tf)"
      ],
      "execution_count": 0,
      "outputs": []
    },
    {
      "cell_type": "code",
      "metadata": {
        "id": "NahoPMu22VBX",
        "colab_type": "code",
        "colab": {
          "base_uri": "https://localhost:8080/",
          "height": 507
        },
        "outputId": "6ca62e53-4a74-4a00-a360-1d5f97c03b5a"
      },
      "source": [
        "x_train, x_test, y_train, y_test = train_test_split(x_data,y_data, test_size=0.25, random_state=5)\n",
        "l0 = tf.keras.layers.Dense(units=3, input_shape=[9]) \n",
        "l1= tf.keras.layers.Dense(units=8,)\n",
        "l2 = tf.keras.layers.Dense(units=8,)\n",
        "model = tf.keras.Sequential([l0,l1,l2])\n",
        "model.compile(loss='mean_squared_error',\n",
        "              optimizer=tf.keras.optimizers.Adam(0.1))\n",
        "model.summary()\n",
        "history = model.fit(x_train, y_train, epochs=100, verbose=False)\n",
        "print(\"Finished training the model\")\n",
        "pd.DataFrame(history.history).plot()\n",
        "y_pred=model.predict(x_test)\n"
      ],
      "execution_count": 6,
      "outputs": [
        {
          "output_type": "stream",
          "text": [
            "_________________________________________________________________\n",
            "Layer (type)                 Output Shape              Param #   \n",
            "=================================================================\n",
            "dense (Dense)                (None, 3)                 30        \n",
            "_________________________________________________________________\n",
            "dense_1 (Dense)              (None, 8)                 32        \n",
            "_________________________________________________________________\n",
            "dense_2 (Dense)              (None, 8)                 72        \n",
            "=================================================================\n",
            "Total params: 134\n",
            "Trainable params: 134\n",
            "Non-trainable params: 0\n",
            "_________________________________________________________________\n",
            "Finished training the model\n"
          ],
          "name": "stdout"
        },
        {
          "output_type": "display_data",
          "data": {
            "image/png": "[encoded data removed]",
            "text/plain": [
              "<Figure size 432x288 with 1 Axes>"
            ]
          },
          "metadata": {
            "tags": []
          }
        }
      ]
    },
    {
      "cell_type": "markdown",
      "metadata": {
        "id": "8QsRSPBK19nq",
        "colab_type": "text"
      },
      "source": [
        "E=[1,0,0,0,0,0,0,0] N=[0,1,0,0,0,0,0,0] NE=[0,0,1,0,0,0,0,0] NW=[0,0,0,1,0,0,0,0] S=[0,0,0,0,1,0,0,0,0] SE=[0,0,0,0,0,1,0,0] SW=[0,0,0,0,0,0,1,0] W=[0,0,0,0,0,0,0,1]"
      ]
    },
    {
      "cell_type": "code",
      "metadata": {
        "id": "uBVXoGtQO5Hk",
        "colab_type": "code",
        "colab": {
          "base_uri": "https://localhost:8080/",
          "height": 547
        },
        "outputId": "38d99195-0bab-49c1-b6ca-a8cdd9c1519a"
      },
      "source": [
        "y_pred_str=[]\n",
        "for c in y_pred:\n",
        "  if np.argmax(c)==0:\n",
        "    y_pred_str.append(\"E\")\n",
        "  if np.argmax(c)==1:\n",
        "    y_pred_str.append(\"N\")\n",
        "  if np.argmax(c)==2:\n",
        "    y_pred_str.append(\"NE\")\n",
        "  if np.argmax(c)==3:\n",
        "    y_pred_str.append(\"NW\")\n",
        "  if np.argmax(c)==4:\n",
        "    y_pred_str.append(\"S\")\n",
        "  if np.argmax(c)==5:\n",
        "    y_pred_str.append(\"SE\")\n",
        "  if np.argmax(c)==6:\n",
        "    y_pred_str.append(\"SW\")\n",
        "  if np.argmax(c)==7:\n",
        "    y_pred_str.append(\"W\")  \n",
        "y_pred=np.asarray(y_pred_str)\n",
        "\n",
        "y_test_str=[]\n",
        "for c in y_test:\n",
        "  if np.argmax(c)==0:\n",
        "    y_test_str.append(\"E\")\n",
        "  if np.argmax(c)==1:\n",
        "    y_test_str.append(\"N\")\n",
        "  if np.argmax(c)==2:\n",
        "    y_test_str.append(\"NE\")\n",
        "  if np.argmax(c)==3:\n",
        "    y_test_str.append(\"NW\")\n",
        "  if np.argmax(c)==4:\n",
        "    y_test_str.append(\"S\")\n",
        "  if np.argmax(c)==5:\n",
        "    y_test_str.append(\"SE\")\n",
        "  if np.argmax(c)==6:\n",
        "    y_test_str.append(\"SW\")\n",
        "  if np.argmax(c)==7:\n",
        "    y_test_str.append(\"W\")  \n",
        "y_test=np.asarray(y_test_str)\n",
        "evaluate()"
      ],
      "execution_count": 7,
      "outputs": [
        {
          "output_type": "stream",
          "text": [
            "    E  N  NE  NW    S  SE  SW    W\n",
            "E   0  0   0   0   30   0   0    3\n",
            "N   0  4   0   0  165   0   0  108\n",
            "NE  0  3   0   0  124   0   0   41\n",
            "NW  0  1   0   0   35   0   0   33\n",
            "S   0  0   0   0  418   0   0    9\n",
            "SE  0  0   0   0    6   0   0    0\n",
            "SW  0  0   0   0  349   0   0    9\n",
            "W   0  0   0   0  265   0   0   74\n",
            "****************\n",
            "Accuracy= 29.58% // Model Accuracy=45%\n",
            "Average precision = 13.34% // Model precision=28%\n",
            "Average recall = 15.15% // Model recall=28%\n",
            "Precision weighted= 21.31% //Model weighted=56%\n",
            "Recall weighted = 29.58% //Model weighted=53%\n",
            "****************\n",
            "       Precision    Recall        F1\n",
            "W_DIR                               \n",
            "E       0.000000  0.000000  0.000000\n",
            "N       0.500000  0.014440  0.028070\n",
            "NE      0.000000  0.000000  0.000000\n",
            "NW      0.000000  0.000000  0.000000\n",
            "S       0.300287  0.978923  0.459593\n",
            "SE      0.000000  0.000000  0.000000\n",
            "SW      0.000000  0.000000  0.000000\n",
            "W       0.267148  0.218289  0.240260\n"
          ],
          "name": "stdout"
        },
        {
          "output_type": "stream",
          "text": [
            "/usr/local/lib/python3.6/dist-packages/sklearn/metrics/classification.py:1143: UndefinedMetricWarning: Precision and F-score are ill-defined and being set to 0.0 in labels with no predicted samples.\n",
            "  'precision', 'predicted', average, warn_for)\n",
            "/usr/local/lib/python3.6/dist-packages/sklearn/metrics/classification.py:1143: UndefinedMetricWarning: Precision and F-score are ill-defined and being set to 0.0 in labels with no predicted samples.\n",
            "  'precision', 'predicted', average, warn_for)\n"
          ],
          "name": "stderr"
        }
      ]
    }
  ]
}