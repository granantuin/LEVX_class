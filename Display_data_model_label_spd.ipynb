{
  "nbformat": 4,
  "nbformat_minor": 0,
  "metadata": {
    "colab": {
      "name": "Display_data_model_label_spd.ipynb",
      "version": "0.3.2",
      "provenance": [],
      "collapsed_sections": [],
      "include_colab_link": true
    },
    "kernelspec": {
      "name": "python3",
      "display_name": "Python 3"
    },
    "accelerator": "GPU"
  },
  "cells": [
    {
      "cell_type": "markdown",
      "metadata": {
        "id": "view-in-github",
        "colab_type": "text"
      },
      "source": [
        "<a href=\"https://colab.research.google.com/github/granantuin/LEVX_class/blob/master/Display_data_model_label_spd.ipynb\" target=\"_parent\"><img src=\"https://colab.research.google.com/assets/colab-badge.svg\" alt=\"Open In Colab\"/></a>"
      ]
    },
    {
      "cell_type": "code",
      "metadata": {
        "id": "kE3tMQZ3czVd",
        "colab_type": "code",
        "colab": {}
      },
      "source": [
        "!pip install pandas_ml"
      ],
      "execution_count": 0,
      "outputs": []
    },
    {
      "cell_type": "code",
      "metadata": {
        "id": "dS6foIfOdNVa",
        "colab_type": "code",
        "colab": {}
      },
      "source": [
        "from sklearn.metrics import confusion_matrix ,accuracy_score,f1_score,recall_score\n",
        "from sklearn.metrics import precision_recall_fscore_support\n",
        "from pandas_ml import ConfusionMatrix\n",
        "import pandas as pd\n",
        "import matplotlib.pyplot as plt\n",
        "import numpy as np\n",
        "import seaborn as sns"
      ],
      "execution_count": 0,
      "outputs": []
    },
    {
      "cell_type": "code",
      "metadata": {
        "id": "FD3fqcvxdVXq",
        "colab_type": "code",
        "colab": {}
      },
      "source": [
        "from google.colab import drive\n",
        "drive.mount('/content/drive')\n"
      ],
      "execution_count": 0,
      "outputs": []
    },
    {
      "cell_type": "code",
      "metadata": {
        "id": "Li-3nJiqdlkh",
        "colab_type": "code",
        "colab": {}
      },
      "source": [
        "def evaluate():\n",
        "  for label in x_data.columns:\n",
        "    print(label)\n",
        "    index=[\"less than 2 m/s\",\"medium\",\"more than 10 m/s\"]\n",
        "    print(ConfusionMatrix(y_data[\"label\"],x_data[label]))\n",
        "    print(\"****************\")\n",
        "    print(\"****************\")\n",
        "    results= precision_recall_fscore_support(y_data[\"label\"], x_data[label], average=None, )\n",
        "    df=pd.DataFrame({\"Precision\":results[0],\"Recall\":results[1],\"F1\":results[2],\"W_DIR\":index})\n",
        "    df=df.set_index(\"W_DIR\")\n",
        "    print(df)\n",
        "    print(\"*******************************************************\")\n",
        "    print(\"Accuracy=\",\"{:.2%}\".format(accuracy_score(y_data[\"label\"], x_data[label])))\n",
        "    print(\"Average precision =\",\"{:.2%}\".format(df[\"Precision\"].mean()))\n",
        "    print(\"Average recall =\",\"{:.2%}\".format(df[\"Recall\"].mean()))\n",
        "    results= precision_recall_fscore_support(y_data[\"label\"], x_data[label], average='weighted', )\n",
        "    print(\"Precision weighted=\",\"{:.2%}\".format(results[0]))\n",
        "    print(\"Recall weighted =\",\"{:.2%}\".format(results[1]))\n",
        "    print(\"*******************************************************\")\n",
        "  "
      ],
      "execution_count": 0,
      "outputs": []
    },
    {
      "cell_type": "code",
      "metadata": {
        "id": "Fg_145QbeJjP",
        "colab_type": "code",
        "colab": {}
      },
      "source": [
        "drive_4km=\"/content/drive/My Drive/Colab Notebooks/model_vs_data/Coron_4km_h24toh48_dir/\"\n",
        "drive_1km=\"/content/drive/My Drive/Colab Notebooks/model_vs_data/Coron_Mars_H24to48_dir/\"\n",
        "drive_metar=\"/content/drive/My Drive/Colab Notebooks/model_vs_data/Metar_2018/\"\n",
        "dr=[drive_4km,drive_1km,drive_metar]"
      ],
      "execution_count": 0,
      "outputs": []
    },
    {
      "cell_type": "code",
      "metadata": {
        "id": "BCP2WNN_eMGX",
        "colab_type": "code",
        "colab": {}
      },
      "source": [
        "y_data=pd.read_excel(dr[2]+\"y_LEVX_spd.xlsx\",index_col=0)\n",
        "x_data=pd.read_csv(dr[2]+\"x_LEVX.csv\",index_col=0)\n",
        "x_data=x_data.iloc[:,9:18]\n",
        "y_data=y_data[y_data>0]# delete station errors\n",
        "result = x_data.join(y_data, how='outer').dropna()\n",
        "x_data=result.iloc[:,0:9]\n",
        "y_data=result.iloc[:,9:10]\n",
        "y_data=y_data"
      ],
      "execution_count": 0,
      "outputs": []
    },
    {
      "cell_type": "code",
      "metadata": {
        "id": "iT3rZ7fDf-Rs",
        "colab_type": "code",
        "colab": {}
      },
      "source": [
        "L=y_data[y_data[\"value\"]<2]\n",
        "L[\"label\"]=\"less than 2 m/s\"\n",
        "M=y_data[(y_data[\"value\"]>=2) & (y_data[\"value\"]<=10)]\n",
        "M[\"label\"]=\"medium\"\n",
        "H=y_data[y_data[\"value\"]>10]\n",
        "H[\"label\"]=\"more than 10 m/s\"\n",
        "spds=[L,M,H]\n",
        "y_data=pd.concat(spds)\n",
        "y_data=y_data.sort_index()"
      ],
      "execution_count": 0,
      "outputs": []
    },
    {
      "cell_type": "code",
      "metadata": {
        "id": "iaq8TvF7jk-n",
        "colab_type": "code",
        "colab": {}
      },
      "source": [
        "for c in x_data.columns:\n",
        "  L=x_data[x_data[c]<2]\n",
        "  L[\"label\"+c]=\"less than 2 m/s\"\n",
        "  M=x_data[(x_data[c]>=2) & (x_data[c]<=10)]\n",
        "  M[\"label\"+c]=\"medium\"\n",
        "  H=x_data[x_data[c]>10]\n",
        "  H[\"label\"+c]=\"more than 10 m/s\"\n",
        "  spds=[L,M,H]\n",
        "  x_data=pd.concat(spds)\n",
        "  x_data=x_data.sort_index()\n",
        "  "
      ],
      "execution_count": 0,
      "outputs": []
    },
    {
      "cell_type": "code",
      "metadata": {
        "id": "H6LmW1yunhmP",
        "colab_type": "code",
        "colab": {}
      },
      "source": [
        "x_data=x_data.iloc[:, 9:]"
      ],
      "execution_count": 0,
      "outputs": []
    },
    {
      "cell_type": "code",
      "metadata": {
        "id": "r1qqLY5mnwke",
        "colab_type": "code",
        "outputId": "9a346ec7-4c74-4bbe-abb5-580f77367763",
        "colab": {
          "base_uri": "https://localhost:8080/",
          "height": 3230
        }
      },
      "source": [
        "evaluate()"
      ],
      "execution_count": 20,
      "outputs": [
        {
          "output_type": "stream",
          "text": [
            "label0.1\n",
            "Predicted         less than 2 m/s  medium  more than 10 m/s  __all__\n",
            "Actual                                                              \n",
            "less than 2 m/s              1148    1098                 1     2247\n",
            "medium                       1107    4684                80     5871\n",
            "more than 10 m/s                0      17                23       40\n",
            "__all__                      2255    5799               104     8158\n",
            "****************\n",
            "****************\n",
            "                  Precision    Recall        F1\n",
            "W_DIR                                          \n",
            "less than 2 m/s    0.509091  0.510903  0.509996\n",
            "medium             0.807725  0.797820  0.802742\n",
            "more than 10 m/s   0.221154  0.575000  0.319444\n",
            "*******************************************************\n",
            "Accuracy= 71.77%\n",
            "Average precision = 51.27%\n",
            "Average recall = 62.79%\n",
            "Precision weighted= 72.26%\n",
            "Recall weighted = 71.77%\n",
            "*******************************************************\n",
            "label1.1\n",
            "Predicted         less than 2 m/s  medium  more than 10 m/s  __all__\n",
            "Actual                                                              \n",
            "less than 2 m/s              1227    1020                 0     2247\n",
            "medium                       1468    4329                74     5871\n",
            "more than 10 m/s                0      16                24       40\n",
            "__all__                      2695    5365                98     8158\n",
            "****************\n",
            "****************\n",
            "                  Precision    Recall        F1\n",
            "W_DIR                                          \n",
            "less than 2 m/s    0.455288  0.546061  0.496560\n",
            "medium             0.806897  0.737353  0.770559\n",
            "more than 10 m/s   0.244898  0.600000  0.347826\n",
            "*******************************************************\n",
            "Accuracy= 68.40%\n",
            "Average precision = 50.24%\n",
            "Average recall = 62.78%\n",
            "Precision weighted= 70.73%\n",
            "Recall weighted = 68.40%\n",
            "*******************************************************\n",
            "label2.1\n",
            "Predicted         less than 2 m/s  medium  more than 10 m/s  __all__\n",
            "Actual                                                              \n",
            "less than 2 m/s              1462     785                 0     2247\n",
            "medium                       2040    3772                59     5871\n",
            "more than 10 m/s                0      18                22       40\n",
            "__all__                      3502    4575                81     8158\n",
            "****************\n",
            "****************\n",
            "                  Precision    Recall        F1\n",
            "W_DIR                                          \n",
            "less than 2 m/s    0.417476  0.650645  0.508610\n",
            "medium             0.824481  0.642480  0.722190\n",
            "more than 10 m/s   0.271605  0.550000  0.363636\n",
            "*******************************************************\n",
            "Accuracy= 64.43%\n",
            "Average precision = 50.45%\n",
            "Average recall = 61.44%\n",
            "Precision weighted= 70.97%\n",
            "Recall weighted = 64.43%\n",
            "*******************************************************\n",
            "label3.1\n",
            "Predicted         less than 2 m/s  medium  more than 10 m/s  __all__\n",
            "Actual                                                              \n",
            "less than 2 m/s              1137    1108                 2     2247\n",
            "medium                        965    4796               110     5871\n",
            "more than 10 m/s                0      15                25       40\n",
            "__all__                      2102    5919               137     8158\n",
            "****************\n",
            "****************\n",
            "                  Precision    Recall        F1\n",
            "W_DIR                                          \n",
            "less than 2 m/s    0.540913  0.506008  0.522879\n",
            "medium             0.810272  0.816897  0.813571\n",
            "more than 10 m/s   0.182482  0.625000  0.282486\n",
            "*******************************************************\n",
            "Accuracy= 73.03%\n",
            "Average precision = 51.12%\n",
            "Average recall = 64.93%\n",
            "Precision weighted= 73.30%\n",
            "Recall weighted = 73.03%\n",
            "*******************************************************\n",
            "label4.1\n",
            "Predicted         less than 2 m/s  medium  more than 10 m/s  __all__\n",
            "Actual                                                              \n",
            "less than 2 m/s              1167    1079                 1     2247\n",
            "medium                       1096    4691                84     5871\n",
            "more than 10 m/s                0      14                26       40\n",
            "__all__                      2263    5784               111     8158\n",
            "****************\n",
            "****************\n",
            "                  Precision    Recall        F1\n",
            "W_DIR                                          \n",
            "less than 2 m/s    0.515687  0.519359  0.517517\n",
            "medium             0.811030  0.799012  0.804976\n",
            "more than 10 m/s   0.234234  0.650000  0.344371\n",
            "*******************************************************\n",
            "Accuracy= 72.13%\n",
            "Average precision = 52.03%\n",
            "Average recall = 65.61%\n",
            "Precision weighted= 72.69%\n",
            "Recall weighted = 72.13%\n",
            "*******************************************************\n",
            "label5.1\n",
            "Predicted         less than 2 m/s  medium  more than 10 m/s  __all__\n",
            "Actual                                                              \n",
            "less than 2 m/s              1277     970                 0     2247\n",
            "medium                       1516    4292                63     5871\n",
            "more than 10 m/s                0      18                22       40\n",
            "__all__                      2793    5280                85     8158\n",
            "****************\n",
            "****************\n",
            "                  Precision    Recall        F1\n",
            "W_DIR                                          \n",
            "less than 2 m/s    0.457214  0.568313  0.506746\n",
            "medium             0.812879  0.731051  0.769796\n",
            "more than 10 m/s   0.258824  0.550000  0.352000\n",
            "*******************************************************\n",
            "Accuracy= 68.53%\n",
            "Average precision = 50.96%\n",
            "Average recall = 61.65%\n",
            "Precision weighted= 71.22%\n",
            "Recall weighted = 68.53%\n",
            "*******************************************************\n",
            "label6.1\n",
            "Predicted         less than 2 m/s  medium  more than 10 m/s  __all__\n",
            "Actual                                                              \n",
            "less than 2 m/s              1156    1089                 2     2247\n",
            "medium                       1068    4651               152     5871\n",
            "more than 10 m/s                0      11                29       40\n",
            "__all__                      2224    5751               183     8158\n",
            "****************\n",
            "****************\n",
            "                  Precision    Recall        F1\n",
            "W_DIR                                          \n",
            "less than 2 m/s    0.519784  0.514464  0.517110\n",
            "medium             0.808729  0.792199  0.800379\n",
            "more than 10 m/s   0.158470  0.725000  0.260090\n",
            "*******************************************************\n",
            "Accuracy= 71.54%\n",
            "Average precision = 49.57%\n",
            "Average recall = 67.72%\n",
            "Precision weighted= 72.60%\n",
            "Recall weighted = 71.54%\n",
            "*******************************************************\n",
            "label7.1\n",
            "Predicted         less than 2 m/s  medium  more than 10 m/s  __all__\n",
            "Actual                                                              \n",
            "less than 2 m/s              1233    1011                 3     2247\n",
            "medium                       1143    4605               123     5871\n",
            "more than 10 m/s                0      14                26       40\n",
            "__all__                      2376    5630               152     8158\n",
            "****************\n",
            "****************\n",
            "                  Precision    Recall        F1\n",
            "W_DIR                                          \n",
            "less than 2 m/s    0.518939  0.548732  0.533420\n",
            "medium             0.817940  0.784364  0.800800\n",
            "more than 10 m/s   0.171053  0.650000  0.270833\n",
            "*******************************************************\n",
            "Accuracy= 71.88%\n",
            "Average precision = 50.26%\n",
            "Average recall = 66.10%\n",
            "Precision weighted= 73.24%\n",
            "Recall weighted = 71.88%\n",
            "*******************************************************\n",
            "label8.1\n",
            "Predicted         less than 2 m/s  medium  more than 10 m/s  __all__\n",
            "Actual                                                              \n",
            "less than 2 m/s              1041    1191                15     2247\n",
            "medium                        992    4660               219     5871\n",
            "more than 10 m/s                0       8                32       40\n",
            "__all__                      2033    5859               266     8158\n",
            "****************\n",
            "****************\n",
            "                  Precision    Recall        F1\n",
            "W_DIR                                          \n",
            "less than 2 m/s    0.512051  0.463284  0.486449\n",
            "medium             0.795358  0.793732  0.794544\n",
            "more than 10 m/s   0.120301  0.800000  0.209150\n",
            "*******************************************************\n",
            "Accuracy= 70.27%\n",
            "Average precision = 47.59%\n",
            "Average recall = 68.57%\n",
            "Precision weighted= 71.40%\n",
            "Recall weighted = 70.27%\n",
            "*******************************************************\n"
          ],
          "name": "stdout"
        }
      ]
    }
  ]
}