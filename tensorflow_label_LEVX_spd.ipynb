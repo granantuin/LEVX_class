{
  "nbformat": 4,
  "nbformat_minor": 0,
  "metadata": {
    "colab": {
      "name": "tensorflow_label_LEVX_spd.ipynb",
      "version": "0.3.2",
      "provenance": [],
      "collapsed_sections": [],
      "include_colab_link": true
    },
    "kernelspec": {
      "name": "python3",
      "display_name": "Python 3"
    },
    "accelerator": "TPU"
  },
  "cells": [
    {
      "cell_type": "markdown",
      "metadata": {
        "id": "view-in-github",
        "colab_type": "text"
      },
      "source": [
        "<a href=\"https://colab.research.google.com/github/granantuin/LEVX_class/blob/master/tensorflow_label_LEVX_spd.ipynb\" target=\"_parent\"><img src=\"https://colab.research.google.com/assets/colab-badge.svg\" alt=\"Open In Colab\"/></a>"
      ]
    },
    {
      "cell_type": "code",
      "metadata": {
        "id": "2uGuxfBa1GSB",
        "colab_type": "code",
        "colab": {}
      },
      "source": [
        "from sklearn.metrics import precision_recall_fscore_support\n",
        "import pandas as pd\n",
        "from sklearn.metrics import confusion_matrix ,accuracy_score,f1_score,recall_score\n",
        "import numpy as np\n",
        "import matplotlib.pyplot as plt\n",
        "from sklearn.model_selection import train_test_split,cross_validate\n",
        "import seaborn as sns\n",
        "from __future__ import absolute_import, division, print_function\n",
        "import tensorflow as tf\n",
        "tf.logging.set_verbosity(tf.logging.ERROR)\n",
        "\n"
      ],
      "execution_count": 0,
      "outputs": []
    },
    {
      "cell_type": "code",
      "metadata": {
        "id": "N_cnHTUh1aTf",
        "colab_type": "code",
        "colab": {}
      },
      "source": [
        "from google.colab import drive\n",
        "drive.mount('/content/drive')\n"
      ],
      "execution_count": 0,
      "outputs": []
    },
    {
      "cell_type": "code",
      "metadata": {
        "id": "Lt2mSVBX1fgc",
        "colab_type": "code",
        "colab": {}
      },
      "source": [
        "drive_4km=\"/content/drive/My Drive/Colab Notebooks/model_vs_data/Coron_4km_h24toh48_dir/\"\n",
        "drive_1km=\"/content/drive/My Drive/Colab Notebooks/model_vs_data/Coron_Mars_H24to48_dir/\"\n",
        "drive_metar=\"/content/drive/My Drive/Colab Notebooks/model_vs_data/Metar_2018/\"\n",
        "dr=[drive_4km,drive_1km,drive_metar]\n",
        "y_data=pd.read_excel(dr[2]+\"y_LEVX_spd.xlsx\",index_col=0)\n",
        "x_data=pd.read_csv(dr[2]+\"x_LEVX.csv\",index_col=0)\n",
        "x_data=x_data.iloc[:,9:18]\n",
        "y_data=y_data[y_data>0]# delete station errors\n",
        "result = x_data.join(y_data, how='outer').dropna()\n",
        "x_data=result.iloc[:,0:9]\n",
        "y_data=result.iloc[:,9:10]"
      ],
      "execution_count": 0,
      "outputs": []
    },
    {
      "cell_type": "code",
      "metadata": {
        "id": "T5aBR60h745J",
        "colab_type": "code",
        "colab": {}
      },
      "source": [
        "def evaluate():\n",
        "  index=[\"less than 2 m/s\",\"medium\",\"more than 10 m/s\"]\n",
        "  print(pd.DataFrame(confusion_matrix(y_test, y_pred), index=index, columns=index))\n",
        "  print(\"****************\")\n",
        "  print(\"Accuracy=\",\"{:.2%}\".format(accuracy_score(y_test, y_pred)),\"// Model Accuracy=45%\")\n",
        "  results= precision_recall_fscore_support(y_test, y_pred, average=None, )\n",
        "  df=pd.DataFrame({\"Precision\":results[0],\"Recall\":results[1],\"F1\":results[2],\"W_SPD\":index})\n",
        "  df=df.set_index(\"W_SPD\")\n",
        "  print(\"Average precision =\",\"{:.2%}\".format(df[\"Precision\"].mean()),\"// Model precision=28%\")\n",
        "  print(\"Average recall =\",\"{:.2%}\".format(df[\"Recall\"].mean()),\"// Model recall=28%\")\n",
        "  results= precision_recall_fscore_support(y_test, y_pred, average='weighted', )\n",
        "  print(\"Precision weighted=\",\"{:.2%}\".format(results[0]),\"//Model weighted=56%\")\n",
        "  print(\"Recall weighted =\",\"{:.2%}\".format(results[1]),\"//Model weighted=53%\")\n",
        "  print(\"****************\")\n",
        "  print(df)"
      ],
      "execution_count": 0,
      "outputs": []
    },
    {
      "cell_type": "markdown",
      "metadata": {
        "id": "QSJ4uJKCKdYE",
        "colab_type": "text"
      },
      "source": [
        "**E=[1,0,0,0,0,0,0,0]\n",
        "N=[0,1,0,0,0,0,0,0]\n",
        "NE=[0,0,1,0,0,0,0,0]\n",
        "NW=[0,0,0,1,0,0,0,0]\n",
        "S=[0,0,0,0,1,0,0,0,0]\n",
        "SE=[0,0,0,0,0,1,0,0]\n",
        "SW=[0,0,0,0,0,0,1,0]\n",
        "W=[0,0,0,0,0,0,0,1]**"
      ]
    },
    {
      "cell_type": "code",
      "metadata": {
        "id": "hAs4madU1trV",
        "colab_type": "code",
        "colab": {}
      },
      "source": [
        "y_data_tf=[]\n",
        "for spd in y_data[\"value\"]:\n",
        "  if spd<2:\n",
        "    y_data_tf.append([1,0,0])\n",
        "  if spd>=2 and spd<10:\n",
        "    y_data_tf.append([0,1,0])\n",
        "  if spd>=10:\n",
        "    y_data_tf.append([0,0,1])\n",
        "y_data=np.asarray(y_data_tf)"
      ],
      "execution_count": 0,
      "outputs": []
    },
    {
      "cell_type": "code",
      "metadata": {
        "id": "NahoPMu22VBX",
        "colab_type": "code",
        "outputId": "ef67b65a-9e05-4d32-843e-6f40bff061f8",
        "colab": {
          "base_uri": "https://localhost:8080/",
          "height": 504
        }
      },
      "source": [
        "x_train, x_test, y_train, y_test = train_test_split(x_data,y_data, test_size=0.25, random_state=5)\n",
        "l0 = tf.keras.layers.Dense(units=8, input_shape=[9]) \n",
        "l1= tf.keras.layers.Dense(units=8,)\n",
        "l2 = tf.keras.layers.Dense(units=3,)\n",
        "model = tf.keras.Sequential([l0,l1,l2])\n",
        "model.compile(loss='mean_squared_error',\n",
        "              optimizer=tf.keras.optimizers.Adam(0.1))\n",
        "model.summary()\n",
        "history = model.fit(x_train, y_train, epochs=100, verbose=False)\n",
        "print(\"Finished training the model\")\n",
        "pd.DataFrame(history.history).plot()\n",
        "y_pred=model.predict(x_test)\n"
      ],
      "execution_count": 12,
      "outputs": [
        {
          "output_type": "stream",
          "text": [
            "_________________________________________________________________\n",
            "Layer (type)                 Output Shape              Param #   \n",
            "=================================================================\n",
            "dense_3 (Dense)              (None, 8)                 80        \n",
            "_________________________________________________________________\n",
            "dense_4 (Dense)              (None, 8)                 72        \n",
            "_________________________________________________________________\n",
            "dense_5 (Dense)              (None, 3)                 27        \n",
            "=================================================================\n",
            "Total params: 179\n",
            "Trainable params: 179\n",
            "Non-trainable params: 0\n",
            "_________________________________________________________________\n",
            "Finished training the model\n"
          ],
          "name": "stdout"
        },
        {
          "output_type": "display_data",
          "data": {
            "image/png": "[encoded data removed]",
            "text/plain": [
              "<Figure size 432x288 with 1 Axes>"
            ]
          },
          "metadata": {
            "tags": []
          }
        }
      ]
    },
    {
      "cell_type": "markdown",
      "metadata": {
        "id": "8QsRSPBK19nq",
        "colab_type": "text"
      },
      "source": [
        "E=[1,0,0,0,0,0,0,0] N=[0,1,0,0,0,0,0,0] NE=[0,0,1,0,0,0,0,0] NW=[0,0,0,1,0,0,0,0] S=[0,0,0,0,1,0,0,0,0] SE=[0,0,0,0,0,1,0,0] SW=[0,0,0,0,0,0,1,0] W=[0,0,0,0,0,0,0,1]"
      ]
    },
    {
      "cell_type": "code",
      "metadata": {
        "id": "uBVXoGtQO5Hk",
        "colab_type": "code",
        "colab": {}
      },
      "source": [
        "y_pred_str=[]\n",
        "for c in y_pred:\n",
        "  if np.argmax(c)==0:\n",
        "    y_pred_str.append(\"less than 2 m/s\")\n",
        "  if np.argmax(c)==1:\n",
        "    y_pred_str.append(\"medium\")\n",
        "  if np.argmax(c)==2:\n",
        "    y_pred_str.append(\"more than 10 m/s\")\n",
        "y_pred=np.asarray(y_pred_str)\n",
        "\n",
        "y_test_str=[]\n",
        "for c in y_test:\n",
        "  if np.argmax(c)==0:\n",
        "    y_test_str.append(\"less than 2 m/s\")\n",
        "  if np.argmax(c)==1:\n",
        "    y_test_str.append(\"medium\")\n",
        "  if np.argmax(c)==2:\n",
        "    y_test_str.append(\"more than 10 m/s\")\n",
        "  \n",
        "y_test=np.asarray(y_test_str)"
      ],
      "execution_count": 0,
      "outputs": []
    },
    {
      "cell_type": "code",
      "metadata": {
        "id": "Jlac_HE82ZmU",
        "colab_type": "code",
        "outputId": "399cca91-c2f4-4a69-830a-b3f5f35ebbe5",
        "colab": {
          "base_uri": "https://localhost:8080/",
          "height": 373
        }
      },
      "source": [
        "evaluate()"
      ],
      "execution_count": 14,
      "outputs": [
        {
          "output_type": "stream",
          "text": [
            "                  less than 2 m/s  medium  more than 10 m/s\n",
            "less than 2 m/s               114     451                 0\n",
            "medium                         77    1392                 0\n",
            "more than 10 m/s                0       6                 0\n",
            "****************\n",
            "Accuracy= 73.82% // Model Accuracy=45%\n",
            "Average precision = 44.99% // Model precision=28%\n",
            "Average recall = 38.31% // Model recall=28%\n",
            "Precision weighted= 70.74% //Model weighted=56%\n",
            "Recall weighted = 73.82% //Model weighted=53%\n",
            "****************\n",
            "                  Precision    Recall        F1\n",
            "W_SPD                                          \n",
            "less than 2 m/s    0.596859  0.201770  0.301587\n",
            "medium             0.752839  0.947583  0.839060\n",
            "more than 10 m/s   0.000000  0.000000  0.000000\n"
          ],
          "name": "stdout"
        },
        {
          "output_type": "stream",
          "text": [
            "/usr/local/lib/python3.6/dist-packages/sklearn/metrics/classification.py:1437: UndefinedMetricWarning: Precision and F-score are ill-defined and being set to 0.0 in labels with no predicted samples.\n",
            "  'precision', 'predicted', average, warn_for)\n",
            "/usr/local/lib/python3.6/dist-packages/sklearn/metrics/classification.py:1437: UndefinedMetricWarning: Precision and F-score are ill-defined and being set to 0.0 in labels with no predicted samples.\n",
            "  'precision', 'predicted', average, warn_for)\n"
          ],
          "name": "stderr"
        }
      ]
    }
  ]
}